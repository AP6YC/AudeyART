{
 "cells": [
  {
   "cell_type": "markdown",
   "id": "b8b32343",
   "metadata": {},
   "source": [
    "# AudeyART\n",
    "\n",
    "This notebook implements a basic version of FuzzyART and tests it out on the relatively \"simple\" Iris dataset.\n",
    "\n",
    "FuzzyART is by default an unsupervised learning algorithm (a.k.a. clustering), so this file demonstrates how to cluster the Iris dataset with it.\n",
    "Future experiments and scripts will show how to do so in a supervised way so that train/test accuracy can be computed.\n",
    "\n",
    "For now, we will see if a \"standard\" FuzzyART module can identify some natural structures/clusters in the Iris data without labels."
   ]
  },
  {
   "cell_type": "markdown",
   "id": "a85dd347",
   "metadata": {},
   "source": [
    "## Dependencies\n",
    "\n",
    "First, we load all of our dependencies for the notebook.\n",
    "Be sure to be working in an activated virtual environment with the requirements installed with\n",
    "\n",
    "```shell\n",
    "pip install -r requirements.txt\n",
    "```\n",
    "\n",
    "<div class=\"alert alert-block alert-info\">\n",
    "<b>Note:</b>\n",
    "More about this in the <a href=README.md> <tt>README.md</tt></a> file.\n",
    "</div>"
   ]
  },
  {
   "cell_type": "code",
   "execution_count": null,
   "id": "6a9e9699",
   "metadata": {},
   "outputs": [],
   "source": [
    "# STDLIB IMPORTS\n",
    "\n",
    "# For manipulating local paths in an object-oriented way\n",
    "from pathlib import Path\n",
    "\n",
    "# 3RD PARTY IMPORTS\n",
    "\n",
    "# The PyTorch library containing neural network utilities and the Tensor datatype\n",
    "import torch\n",
    "# A convenient import of Tensor so that we don't have to write torch.Tensor every time\n",
    "from torch import Tensor\n",
    "# Pandas for loading and manipulating data as a DataFrame\n",
    "import pandas as pd\n",
    "# Numpy for handling numpy arrays (i.e., matplotlib doesn't understand Tensor types, but it does know numpy.nparray)\n",
    "import numpy as np\n",
    "# A sklearn utility for handling normalization of data automatically\n",
    "from sklearn.preprocessing import MinMaxScaler\n",
    "# From scikit-learn, for casting the data to 2D for visualization.\n",
    "# This is not how the data actually looks in 4D, but the best that we can do is to cast it to 2D such that relative distances are mostly maintained.\n",
    "from sklearn.manifold import TSNE\n",
    "\n",
    "# The most common way of importing matplotlib for plotting in Python\n",
    "from matplotlib import pyplot as plt\n",
    "# For manipulating axis tick locations\n",
    "from matplotlib import ticker\n",
    "\n",
    "# An IPython magic syntax that tells matplotlib to plot in a new cell instead of a new window\n",
    "%matplotlib inline"
   ]
  },
  {
   "cell_type": "markdown",
   "id": "428a5a15",
   "metadata": {},
   "source": [
    "## Load Data\n",
    "\n",
    "Next, we will load the dataset with `pandas` as a DataFrane."
   ]
  },
  {
   "cell_type": "code",
   "execution_count": 3,
   "id": "654d692a",
   "metadata": {},
   "outputs": [
    {
     "data": {
      "text/plain": [
       "tensor([[0.2222, 0.6250, 0.0678,  ..., 0.3750, 0.9322, 0.9583],\n",
       "        [0.1667, 0.4167, 0.0678,  ..., 0.5833, 0.9322, 0.9583],\n",
       "        [0.1111, 0.5000, 0.0508,  ..., 0.5000, 0.9492, 0.9583],\n",
       "        ...,\n",
       "        [0.6111, 0.4167, 0.7119,  ..., 0.5833, 0.2881, 0.2083],\n",
       "        [0.5278, 0.5833, 0.7458,  ..., 0.4167, 0.2542, 0.0833],\n",
       "        [0.4444, 0.4167, 0.6949,  ..., 0.5833, 0.3051, 0.2917]])"
      ]
     },
     "execution_count": 3,
     "metadata": {},
     "output_type": "execute_result"
    }
   ],
   "source": [
    "# Point to the local data file\n",
    "datafile = Path(\"iris\", \"iris.data\")\n",
    "# Read the data as a CSV, manually declaring the headers since the file doesn't have them\n",
    "data = pd.read_csv(datafile, names=[\"SL\", \"SW\", \"PL\", \"PW\", \"Label\"])\n",
    "\n",
    "# Intialize the scalar and update the values in-place to be normalized between [0, 1]\n",
    "scaler = MinMaxScaler()\n",
    "data[[\"SL\", \"SW\", \"PL\", \"PW\"]] = scaler.fit_transform(data[[\"SL\", \"SW\", \"PL\", \"PW\"]])\n",
    "\n",
    "# Complement code the data by pushing it into a Tensor\n",
    "data_cc = torch.Tensor(data[[\"SL\", \"SW\", \"PL\", \"PW\"]].values)\n",
    "# and appending the vector [1-x] along the feature dimension\n",
    "data_cc = torch.cat((data_cc, 1 - data_cc), dim=1)\n",
    "# What we get is a list of 8-dimensional samples\n",
    "data_cc"
   ]
  },
  {
   "cell_type": "markdown",
   "id": "2dff9d6f",
   "metadata": {},
   "source": [
    "## Define AudeyART (FuzzyART) Module\n",
    "\n",
    "We will implement the FuzzyART module as a Python class containing all of the weights, hyperparamenters, and methods bundled together.\n",
    "The main interface that we want to the rest of the program is:\n",
    "\n",
    "1. `AudeyART(...)`: an intialization function where we pass whatever hyperparameters it will need.\n",
    "These hyperparameters will include what it needs to correctly setup the module structure, and it will also include the running variables such as learning rate, vigilance parameter, etc.\n",
    "2. `AudeyART.train(x: Tensor)`: to cluster the data, we will take in one sample at a time and train the model incrementally.\n",
    "Future work will take in an `x` and `y` in the supervised case.\n",
    "3. `AudeyART.classify(x: Tensor)`: once the model is trained, we need a function that gives predictions of what internal category the provided sample `x` belongs to.\n",
    "This will mainly be used to visualize the clustering results on the test split.\n",
    "\n",
    "<div class=\"alert alert-block alert-info\">\n",
    "<b>Note:</b>\n",
    "Normally, proper docstrings would be used to document Python class functionality, but I am using inline comments to explain each line step-by-step instead.\n",
    "</div>"
   ]
  },
  {
   "cell_type": "code",
   "execution_count": null,
   "id": "a41d87e8",
   "metadata": {},
   "outputs": [],
   "source": [
    "# Define a class that contains everything we need\n",
    "class AudeyART():\n",
    "\n",
    "    # The constructor will be where we pass the hyperparameters necessary for the FuzzyART module to work.\n",
    "    def __init__(\n",
    "        self,\n",
    "        dim: int,           # The original dimension of the data\n",
    "        rho: float=0.6,     # The vigilance parameter in [0, 1]\n",
    "        beta: float=0.5,    # The learning rate in [0, 1]\n",
    "        alpha: float=0.001  # The choice parameter (close to zero)\n",
    "    ):\n",
    "        # The weights with be of shape [n_categories, 2 * n_dimensions] for complement coded samples\n",
    "        # NOTE: we start with weights of size [0, 8] with an uninitialized number of categories but known complement-coded dimension length\n",
    "        self.W = Tensor(size=[0, 2*dim])\n",
    "        # Keep track of the original dimension for later\n",
    "        self.dim = dim\n",
    "        # Save the rest of the operational hyperaparameters\n",
    "        self.alpha = alpha\n",
    "        self.beta = beta\n",
    "        self.rho = rho\n",
    "\n",
    "        return\n",
    "\n",
    "    # This function defines how we add a new category to the weight matrix\n",
    "    def grow(self, x: Tensor):\n",
    "        # This is a commented print statement for debugging the shapes of everything, kept here for reference\n",
    "        # print(self.W.shape, x.shape, x.reshape((1, self.dim*2)).shape)\n",
    "\n",
    "        # Growing the weight matrix ultimately means appending a new weight vector.\n",
    "        # This is slow how it is written because the memory is overwritten each time we add a new weight, but it works fine for small datasets.\n",
    "        self.W = torch.cat((self.W, x.reshape((1, self.dim*2))))\n",
    "\n",
    "        return\n",
    "\n",
    "    # This function defines what it means to initialize a new category and add it to the weight matrix\n",
    "    def init_cat(self, x:Tensor):\n",
    "        # First, we infer the existing number of categories\n",
    "        n_categories = self.W.shape[0]\n",
    "        # Next we initialize the \"uncommitted node\" with all ones\n",
    "        new_W = torch.ones(2*self.dim)\n",
    "        # We append the new node to the weights via our grow function\n",
    "        self.grow(new_W)\n",
    "        # Then we immediately update that category\n",
    "        # NOTE: Python is 0-indexed, so the n_categories we got before we appended a new one happens to be the correct index to update\n",
    "        self.learn(x, n_categories)\n",
    "\n",
    "        return\n",
    "\n",
    "    # This is the activation function to compute `T` given sample `x` and the weight at index `j`\n",
    "    def activation(self, x:Tensor, j:int):\n",
    "        # We will do this step-by-step to illustrate each computation.\n",
    "        # First, get the element-wise minimum (fuzzy intersection) of weight `j` and sample `x`.\n",
    "        xinw = torch.minimum(x, self.W[j, :])\n",
    "        # Taking the 1-norm is simply a sum\n",
    "        xinwnorm = torch.sum(xinw)\n",
    "        # We also need the 1-norm of the weight on its own\n",
    "        wnorm = torch.sum(self.W[j, :])\n",
    "        # We compute the activation as the norm of the fuzzy intersection over the weight norm plus the choice parameter (to not divide by zero).\n",
    "        Tj = xinwnorm / (self.alpha + wnorm)\n",
    "        # The output is then just this one activation `T` for weight `j`\n",
    "        return Tj\n",
    "\n",
    "    # This is the match function to compute `M` given sample `x` and the weight at index `j`\n",
    "    def match(self, x:Tensor, j:int):\n",
    "        # Again, the fuzzy intersection is just the elementwise-minimum between sample `x` and weight `j`\n",
    "        xinw = torch.minimum(x, self.W[j, :])\n",
    "        # The 1-norm is simply a sum of all elements\n",
    "        xinwnorm = torch.sum(xinw)\n",
    "        # The match is defined as fuzzy intersection over the 1-norm of the sample, but we know that the sample is normalized to [0, 1] and complement coded, so that term will always be equal to the original dimension number\n",
    "        Mj = xinwnorm / self.dim\n",
    "        # The output here is the match value for weight `j`\n",
    "        return Mj\n",
    "\n",
    "    # This function describes what it means to update a winning weight at index `j` with sample `x`\n",
    "    def learn(self, x:Tensor, j:int):\n",
    "        # We accidentally wrote the wrong learning function here first, so I am keeping it to show how the learning function (among others) can vary quite a bit between different ART modules\n",
    "        # self.W[j, :] = self.beta * x + (1-self.beta) * self.W[j, :]\n",
    "\n",
    "        # The FuzzyART weight update rule is a linear interpolation between the old weight and the fuzzy intersection, and how far along that interpolation we go is set by beta (between [0,1]).\n",
    "        self.W[j, :] = (1 - self.beta) * self.W[j, :] + self.beta * (torch.minimum(x, self.W[j, :]))\n",
    "\n",
    "        # Because we wrote this function to update the weight in place, we have an empty return\n",
    "        return\n",
    "\n",
    "    # This function is the main training interface, taking one sample at a time\n",
    "    def train(self, x:Tensor):\n",
    "        # First, we make sure that we have at least one category\n",
    "        n_categories = self.W.shape[0]\n",
    "        # If we don't have any categories, then immediately create one and update it\n",
    "        if n_categories == 0:\n",
    "            self.init_cat(x)\n",
    "            return\n",
    "\n",
    "        # Next, we compute the activations.\n",
    "        # NOTE: There are two ways to do this:\n",
    "        #   1. Preallocate a vector and iterate with a for loop\n",
    "        #   2. List comprehension, where this is done all at once\n",
    "        # List comprehension is sometimes slower for complicated low-level reasons, but it is a useful tool in lots of scenarios to make the syntax simpler.\n",
    "\n",
    "        # OPTION 1: For loop way (commented out for illustration purposes)\n",
    "        # T = torch.zeros(n_categories)\n",
    "        # for j in range(n_categories):\n",
    "        #     T[j] = self.activation(x, j)\n",
    "\n",
    "        # OPTION 2: List comprehension way\n",
    "        T = Tensor([self.activation(x, j) for j in range(n_categories)])\n",
    "\n",
    "        # Next, we do the vigilance check.\n",
    "        # This will involve going through the weights in order of highest activation and seeing if any of them pass the vigilance criterion.\n",
    "        # For FuzzyART, this simply means if `Mj > rho`, where `rho` is the vigilance parameter.\n",
    "        # The first one that passes this check wins and gets updated (hence winner-take-all).\n",
    "        # If none do, then a new category is created and updated (hence the neurogenesis).\n",
    "\n",
    "        # There are also two ways to handle the vigilance check programmatically:\n",
    "        #   1. Sort the activations then iterate\n",
    "        #   2. argmax the activations iteratively and zero them out if the don't pass.\n",
    "        # Both methods have pros and cons, but we will go with the sorting procedure since it is simpler (even though it is technically slower since the sort is O(n long(n)) )\n",
    "\n",
    "        # Sort the activations in order of highest activation first (in torch, this means descending order)\n",
    "        # NOTE: we want the resulting indices too because we care about the original weight index that was highest activated\n",
    "        T, inds = torch.sort(T, descending=True)\n",
    "        # Create a flag that acts as the signal if any weight won\n",
    "        did_match = False\n",
    "        # Iterate over the activations in order of highest first\n",
    "        for _, j in enumerate(T):\n",
    "            # Extract the index of the current node with a bunch of type casting (ints can be used to index in Python, but torch Tensors can't)\n",
    "            J = int(inds[int(j)])\n",
    "            # Compute the match value at that index\n",
    "            M = self.match(x, J)\n",
    "            # If the match value is greater than the vigilance parameter, update that weight and stop the search\n",
    "            if M > self.rho:\n",
    "                # Update the weight according to the FuzzyART learning rule\n",
    "                self.learn(x, J)\n",
    "                # Raise the flag to say that we did have a winner\n",
    "                did_match = True\n",
    "                # Stop iterating over the weights\n",
    "                break\n",
    "\n",
    "        # If we didnt' have a winner, then create a new weight entirely and immediately update it (similar to how we do if we create the first weight at the top)\n",
    "        if not did_match:\n",
    "            self.init_cat(x)\n",
    "\n",
    "        return\n",
    "\n",
    "    def classify(self, x:Tensor, get_bmu = True):\n",
    "        n_categories = self.W.shape[0]\n",
    "\n",
    "        # List comprehension way\n",
    "        T = Tensor([self.activation(x, j) for j in range(n_categories)])\n",
    "\n",
    "        y_hat = -1\n",
    "\n",
    "        T, inds = torch.sort(T, descending=True)\n",
    "        did_match = False\n",
    "        # while not did_match:\n",
    "        for _, j in enumerate(T):\n",
    "            # J = int(torch.argmax(T).data)\n",
    "            J = int(inds[int(j)])\n",
    "            M = self.match(x, J)\n",
    "            if M > self.rho:\n",
    "                y_hat = J\n",
    "                did_match = True\n",
    "                break\n",
    "\n",
    "        if not did_match:\n",
    "            if not get_bmu:\n",
    "                y_hat = -1\n",
    "            else:\n",
    "                y_hat = int(inds[0])\n",
    "\n",
    "        return y_hat\n",
    "\n"
   ]
  },
  {
   "cell_type": "code",
   "execution_count": 5,
   "id": "666c8489",
   "metadata": {},
   "outputs": [
    {
     "data": {
      "text/plain": [
       "2"
      ]
     },
     "execution_count": 5,
     "metadata": {},
     "output_type": "execute_result"
    }
   ],
   "source": [
    "a = torch.randn(3)\n",
    "b = torch.argmax(a)\n",
    "int(b.data)"
   ]
  },
  {
   "cell_type": "markdown",
   "id": "1f5690f6",
   "metadata": {},
   "source": [
    "## Init Everything"
   ]
  },
  {
   "cell_type": "code",
   "execution_count": 6,
   "id": "bad138e3",
   "metadata": {},
   "outputs": [],
   "source": [
    "# Infer data dimensions\n",
    "n_samples = data_cc.shape[0]\n",
    "dim = int(data_cc.shape[1] / 2)\n",
    "\n",
    "# Init FuzzyART module\n",
    "# aart = AudeyART(dim)"
   ]
  },
  {
   "cell_type": "markdown",
   "id": "0bfbc48d",
   "metadata": {},
   "source": [
    "## Train"
   ]
  },
  {
   "cell_type": "code",
   "execution_count": 7,
   "id": "d2aaab99",
   "metadata": {},
   "outputs": [],
   "source": [
    "# Loop over every sample\n",
    "aart = AudeyART(dim, rho=0.6, beta=1.0)\n",
    "for ix in range(n_samples):\n",
    "    data_x = data_cc[ix, :]\n",
    "    aart.train(data_x)\n",
    "    # print(data_x)\n",
    "\n",
    "y_hats = []\n",
    "for ix in range(n_samples):\n",
    "    data_x = data_cc[ix, :]\n",
    "    y_hat = aart.classify(data_x)\n",
    "    y_hats.append(y_hat)"
   ]
  },
  {
   "cell_type": "code",
   "execution_count": null,
   "id": "12b21003",
   "metadata": {},
   "outputs": [],
   "source": [
    "def add_2d_scatter(ax, points, colors, title=None):\n",
    "    x, y = points.T\n",
    "    ax.scatter(x, y, s=50, c=colors, alpha=0.8)\n",
    "    ax.set_title(title)\n",
    "    ax.xaxis.set_major_formatter(ticker.NullFormatter())\n",
    "    ax.yaxis.set_major_formatter(ticker.NullFormatter())\n",
    "\n",
    "def plot_2d(points, colors, title):\n",
    "    fig, ax = plt.subplots(figsize=(3, 3), facecolor=\"white\", constrained_layout=True)\n",
    "    fig.suptitle(title, size=16)\n",
    "    add_2d_scatter(ax, points, colors)\n",
    "    plt.show()\n",
    "\n",
    "\n",
    "t_sne = TSNE(\n",
    "    n_components=2,\n",
    "    perplexity=30,\n",
    "    init=\"random\",\n",
    "    max_iter=250,\n",
    "    random_state=0,\n",
    ")\n",
    "\n",
    "# x, y = get_points(model, test_loader)\n",
    "\n",
    "x = data_cc.numpy()\n",
    "y = y_hats\n",
    "\n",
    "S_t_sne = t_sne.fit_transform(x)\n"
   ]
  },
  {
   "cell_type": "code",
   "execution_count": 9,
   "id": "561cd191",
   "metadata": {},
   "outputs": [
    {
     "data": {
      "image/png": "[encoded data removed]",
      "text/plain": [
       "<Figure size 300x300 with 1 Axes>"
      ]
     },
     "metadata": {},
     "output_type": "display_data"
    }
   ],
   "source": [
    "cmap = plt.get_cmap('tab10')\n",
    "colors = [cmap(i) for i in y]\n",
    "plot_2d(S_t_sne, colors, \"T-distributed Stochastic  \\n Neighbor Embedding\")"
   ]
  },
  {
   "cell_type": "code",
   "execution_count": 10,
   "id": "465db1ac",
   "metadata": {},
   "outputs": [
    {
     "name": "stdout",
     "output_type": "stream",
     "text": [
      "torch.Size([0, 2])\n",
      "torch.Size([1, 2])\n"
     ]
    },
    {
     "data": {
      "text/plain": [
       "torch.Size([1, 2])"
      ]
     },
     "execution_count": 10,
     "metadata": {},
     "output_type": "execute_result"
    }
   ],
   "source": [
    "a = torch.Tensor(size=[0,2])\n",
    "b = torch.Tensor(np.array([[1, 1]]))\n",
    "# a.expand( )\n",
    "print(a.shape)\n",
    "print(b.shape)\n",
    "c = torch.cat((a, b))\n",
    "c.shape"
   ]
  }
 ],
 "metadata": {
  "kernelspec": {
   "display_name": "audeyart",
   "language": "python",
   "name": "python3"
  },
  "language_info": {
   "codemirror_mode": {
    "name": "ipython",
    "version": 3
   },
   "file_extension": ".py",
   "mimetype": "text/x-python",
   "name": "python",
   "nbconvert_exporter": "python",
   "pygments_lexer": "ipython3",
   "version": "3.12.11"
  }
 },
 "nbformat": 4,
 "nbformat_minor": 5
}
