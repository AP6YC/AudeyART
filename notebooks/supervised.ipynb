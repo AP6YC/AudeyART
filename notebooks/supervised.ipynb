{
 "cells": [
  {
   "cell_type": "markdown",
   "id": "85c29243",
   "metadata": {},
   "source": [
    "# Supervised FuzzyART\n",
    "\n",
    "TODO"
   ]
  },
  {
   "cell_type": "code",
   "execution_count": 35,
   "id": "b1122b46",
   "metadata": {},
   "outputs": [],
   "source": [
    "# An IPython magic syntax that tells matplotlib to plot in a new cell instead of a new window\n",
    "from importlib import reload\n",
    "import fuzzyart as fa\n",
    "reload(fa)\n",
    "\n",
    "%matplotlib inline"
   ]
  },
  {
   "cell_type": "code",
   "execution_count": 36,
   "id": "cfe2cd58",
   "metadata": {},
   "outputs": [],
   "source": [
    "data = fa.DataContainer()\n",
    "\n",
    "art = fa.AudeyART(\n",
    "    data.dim,\n",
    "    rho=0.45,\n",
    "    beta=1.0,\n",
    ")"
   ]
  },
  {
   "cell_type": "code",
   "execution_count": 37,
   "id": "0ccfd762",
   "metadata": {},
   "outputs": [],
   "source": [
    "\n",
    "# To train, we loop over every sample\n",
    "for ix in range(data.n_samples):\n",
    "    # Extract the sample as a vector at sample index `ix`\n",
    "    data_x = data.data_cc[ix, :]\n",
    "    data_y = int(data.data[\"Label\"][ix])\n",
    "    # Train the model on the sample!\n",
    "    # Because this is unsupervised, we have no other information to give to the model besides the sample itself.\n",
    "    art.train(data_x, y=data_y)"
   ]
  },
  {
   "cell_type": "code",
   "execution_count": 38,
   "id": "ecd3cd7e",
   "metadata": {},
   "outputs": [
    {
     "data": {
      "text/plain": [
       "[1, 0, 2, 2, 2, 2, 2, 2, 2, 2, 2, 2, 2, 2]"
      ]
     },
     "execution_count": 38,
     "metadata": {},
     "output_type": "execute_result"
    }
   ],
   "source": [
    "art.map\n",
    "# art.W"
   ]
  },
  {
   "cell_type": "code",
   "execution_count": 39,
   "id": "43c0ac63",
   "metadata": {},
   "outputs": [],
   "source": [
    "# Initialize a simple Python vector for the label estimates (i.e., the category indices)\n",
    "y_hats = []\n",
    "# Iterate over all of the samples again\n",
    "for ix in range(data.n_samples):\n",
    "    # Extract the single sample as before\n",
    "    data_x = data.data_cc[ix, :]\n",
    "    # Classify the sample, this time getting the label that the FuzzyART algorithm prescribed to it\n",
    "    y_hat = art.classify(data_x)\n",
    "    # Append to our list of labels\n",
    "    y_hats.append(y_hat)"
   ]
  },
  {
   "cell_type": "code",
   "execution_count": 40,
   "id": "d6855bde",
   "metadata": {},
   "outputs": [
    {
     "data": {
      "text/plain": [
       "[1,\n",
       " 0,\n",
       " 1,\n",
       " 0,\n",
       " 0,\n",
       " 0,\n",
       " 1,\n",
       " 0,\n",
       " 1,\n",
       " 2,\n",
       " 0,\n",
       " 2,\n",
       " 1,\n",
       " 1,\n",
       " 2,\n",
       " 2,\n",
       " 0,\n",
       " 2,\n",
       " 1,\n",
       " 1,\n",
       " 1,\n",
       " 1,\n",
       " 0,\n",
       " 1,\n",
       " 0,\n",
       " 2,\n",
       " 0,\n",
       " 1,\n",
       " 0,\n",
       " 2,\n",
       " 0,\n",
       " 0,\n",
       " 2,\n",
       " 2,\n",
       " 1,\n",
       " 2,\n",
       " 2,\n",
       " 1,\n",
       " 0,\n",
       " 1,\n",
       " 0,\n",
       " 1,\n",
       " 0,\n",
       " 2,\n",
       " 1,\n",
       " 1,\n",
       " 0,\n",
       " 1,\n",
       " 1,\n",
       " 1,\n",
       " 2,\n",
       " 0,\n",
       " 1,\n",
       " 0,\n",
       " 2,\n",
       " 2,\n",
       " 0,\n",
       " 2,\n",
       " 0,\n",
       " 2,\n",
       " 2,\n",
       " 2,\n",
       " 2,\n",
       " 1,\n",
       " 2,\n",
       " 1,\n",
       " 0,\n",
       " 0,\n",
       " 1,\n",
       " 0,\n",
       " 2,\n",
       " 2,\n",
       " 0,\n",
       " 0,\n",
       " 2,\n",
       " 0,\n",
       " 2,\n",
       " 1,\n",
       " 0,\n",
       " 0,\n",
       " 1,\n",
       " 2,\n",
       " 0,\n",
       " 2,\n",
       " 1,\n",
       " 0,\n",
       " 1,\n",
       " 1,\n",
       " 1,\n",
       " 0,\n",
       " 0,\n",
       " 1,\n",
       " 2,\n",
       " 0,\n",
       " 1,\n",
       " 1,\n",
       " 2,\n",
       " 1,\n",
       " 1,\n",
       " 0,\n",
       " 0,\n",
       " 1,\n",
       " 2,\n",
       " 0,\n",
       " 2,\n",
       " 2,\n",
       " 2,\n",
       " 1,\n",
       " 2,\n",
       " 1,\n",
       " 1,\n",
       " 2,\n",
       " 2,\n",
       " 2,\n",
       " 2,\n",
       " 2,\n",
       " 0,\n",
       " 1,\n",
       " 0,\n",
       " 0,\n",
       " 0,\n",
       " 2,\n",
       " 1,\n",
       " 0,\n",
       " 1,\n",
       " 2,\n",
       " 1,\n",
       " 1,\n",
       " 0,\n",
       " 2,\n",
       " 0,\n",
       " 0,\n",
       " 0,\n",
       " 1,\n",
       " 2,\n",
       " 0,\n",
       " 2,\n",
       " 2,\n",
       " 1,\n",
       " 2,\n",
       " 1,\n",
       " 2,\n",
       " 2,\n",
       " 0,\n",
       " 2,\n",
       " 0,\n",
       " 2,\n",
       " 2,\n",
       " 2,\n",
       " 0]"
      ]
     },
     "execution_count": 40,
     "metadata": {},
     "output_type": "execute_result"
    }
   ],
   "source": [
    "y_hats"
   ]
  },
  {
   "cell_type": "code",
   "execution_count": 41,
   "id": "d6cd1365",
   "metadata": {},
   "outputs": [
    {
     "data": {
      "image/png": "[encoded data removed]",
      "text/plain": [
       "<Figure size 300x300 with 1 Axes>"
      ]
     },
     "metadata": {},
     "output_type": "display_data"
    }
   ],
   "source": [
    "# Generate the plot\n",
    "S_t_sne = fa.get_tsne(data)\n",
    "fa.plot_2d(S_t_sne.T, y_hats, \"TSNE (FuzzyART Labels)\")"
   ]
  },
  {
   "cell_type": "code",
   "execution_count": null,
   "id": "9cf49c4e",
   "metadata": {},
   "outputs": [],
   "source": []
  }
 ],
 "metadata": {
  "kernelspec": {
   "display_name": "audeyart",
   "language": "python",
   "name": "python3"
  },
  "language_info": {
   "codemirror_mode": {
    "name": "ipython",
    "version": 3
   },
   "file_extension": ".py",
   "mimetype": "text/x-python",
   "name": "python",
   "nbconvert_exporter": "python",
   "pygments_lexer": "ipython3",
   "version": "3.12.11"
  }
 },
 "nbformat": 4,
 "nbformat_minor": 5
}
