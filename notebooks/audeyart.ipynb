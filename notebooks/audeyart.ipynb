{
 "cells": [
  {
   "cell_type": "markdown",
   "id": "b8b32343",
   "metadata": {},
   "source": [
    "# AudeyART\n",
    "\n",
    "This notebook implements a basic version of FuzzyART and tests it out on the relatively \"simple\" Iris dataset.\n",
    "\n",
    "FuzzyART is by default an unsupervised learning algorithm (a.k.a. clustering), so this file demonstrates how to cluster the Iris dataset with it.\n",
    "Future experiments and scripts will show how to do so in a supervised way so that train/test accuracy can be computed.\n",
    "\n",
    "For now, we will see if a \"standard\" FuzzyART module can identify some natural structures/clusters in the Iris data without labels."
   ]
  },
  {
   "cell_type": "markdown",
   "id": "a85dd347",
   "metadata": {},
   "source": [
    "## Dependencies\n",
    "\n",
    "First, we load all of our dependencies for the notebook.\n",
    "Be sure to be working in an activated virtual environment with the requirements installed with\n",
    "\n",
    "```shell\n",
    "pip install -r requirements.txt\n",
    "```\n",
    "\n",
    "<div class=\"alert alert-block alert-info\">\n",
    "<b>Note:</b>\n",
    "More about this in the <a href=README.md> <tt>README.md</tt></a> file.\n",
    "</div>"
   ]
  },
  {
   "cell_type": "code",
   "execution_count": 1,
   "id": "6a9e9699",
   "metadata": {},
   "outputs": [],
   "source": [
    "# STDLIB IMPORTS\n",
    "\n",
    "# For manipulating local paths in an object-oriented way\n",
    "from pathlib import Path\n",
    "\n",
    "# 3RD PARTY IMPORTS\n",
    "\n",
    "# The PyTorch library containing neural network utilities and the Tensor datatype\n",
    "import torch\n",
    "# A convenient import of Tensor so that we don't have to write torch.Tensor every time\n",
    "from torch import Tensor\n",
    "# Pandas for loading and manipulating data as a DataFrame\n",
    "import pandas as pd\n",
    "# Numpy for handling numpy arrays (i.e., matplotlib doesn't understand Tensor types, but it does know numpy.nparray)\n",
    "import numpy as np\n",
    "\n",
    "# A sklearn utility for handling normalization of data automatically\n",
    "from sklearn.preprocessing import MinMaxScaler\n",
    "# From scikit-learn, for casting the data to 2D for visualization.\n",
    "# This is not how the data actually looks in 4D, but the best that we can do is to cast it to 2D such that relative distances are mostly maintained.\n",
    "from sklearn.manifold import TSNE\n",
    "# An sklearn utility for converting a list of text labels into unique integers\n",
    "from sklearn.preprocessing import LabelEncoder\n",
    "\n",
    "# The most common way of importing matplotlib for plotting in Python\n",
    "from matplotlib import pyplot as plt\n",
    "# For manipulating axis tick locations\n",
    "from matplotlib import ticker\n",
    "\n",
    "# An IPython magic syntax that tells matplotlib to plot in a new cell instead of a new window\n",
    "%matplotlib inline"
   ]
  },
  {
   "cell_type": "markdown",
   "id": "428a5a15",
   "metadata": {},
   "source": [
    "## Load Data\n",
    "\n",
    "Next, we will load the dataset with `pandas` as a DataFrane."
   ]
  },
  {
   "cell_type": "code",
   "execution_count": 2,
   "id": "654d692a",
   "metadata": {},
   "outputs": [
    {
     "data": {
      "text/plain": [
       "tensor([[0.3611, 0.2083, 0.4915,  ..., 0.7917, 0.5085, 0.5833],\n",
       "        [0.0278, 0.5000, 0.0508,  ..., 0.5000, 0.9492, 0.9583],\n",
       "        [0.5556, 0.5417, 0.6271,  ..., 0.4583, 0.3729, 0.3750],\n",
       "        ...,\n",
       "        [0.5278, 0.3333, 0.6441,  ..., 0.6667, 0.3559, 0.2917],\n",
       "        [0.8056, 0.4167, 0.8136,  ..., 0.5833, 0.1864, 0.3750],\n",
       "        [0.1111, 0.5000, 0.1017,  ..., 0.5000, 0.8983, 0.9583]])"
      ]
     },
     "execution_count": 2,
     "metadata": {},
     "output_type": "execute_result"
    }
   ],
   "source": [
    "# Point to the local data file\n",
    "datafile = Path(\"..\", \"iris\", \"iris.data\")\n",
    "# Read the data as a CSV, manually declaring the headers since the file doesn't have them\n",
    "data = pd.read_csv(datafile, names=[\"SL\", \"SW\", \"PL\", \"PW\", \"Label\"])\n",
    "\n",
    "# Intialize the scalar and update the values in-place to be normalized between [0, 1]\n",
    "scaler = MinMaxScaler()\n",
    "data[[\"SL\", \"SW\", \"PL\", \"PW\"]] = scaler.fit_transform(data[[\"SL\", \"SW\", \"PL\", \"PW\"]])\n",
    "\n",
    "# Change the text labels to integer labels\n",
    "label_encoder = LabelEncoder()\n",
    "data[\"Label\"] = label_encoder.fit_transform(data[\"Label\"])\n",
    "\n",
    "# Shuffle the data\n",
    "np.random.seed(12345)\n",
    "data = data.sample(frac=1).reset_index(drop=True)\n",
    "\n",
    "# Complement code the data by pushing it into a Tensor\n",
    "data_cc = torch.Tensor(data[[\"SL\", \"SW\", \"PL\", \"PW\"]].values)\n",
    "# and appending the vector [1-x] along the feature dimension\n",
    "data_cc = torch.cat((data_cc, 1 - data_cc), dim=1)\n",
    "# What we get is a list of 8-dimensional samples\n",
    "data_cc"
   ]
  },
  {
   "cell_type": "markdown",
   "id": "eec870e2",
   "metadata": {},
   "source": [
    "Now that we have the data set up, we can infer the number of samples and data dimensions that we are working with.\n",
    "These two pieces of information will be useful for initializing the module and setting up the training loop.\n",
    "\n",
    "We have the luxury of knowing all of this information (and being able to know the exact bounds of the data) since the dataset is so small and completely available, but sometimes this info is not entirely clear.\n",
    "For now, we take advantage of this luxury with the normalization and complement coding above and the data dimension inference below."
   ]
  },
  {
   "cell_type": "code",
   "execution_count": 4,
   "id": "c907c3d4",
   "metadata": {},
   "outputs": [],
   "source": [
    "# The number of samples is in the first dimensions of the complement-coded data\n",
    "n_samples = data_cc.shape[0]\n",
    "\n",
    "# The original dimension of the data is half of the complement coded dimension, which we make sure is cast back to an int\n",
    "dim = int(data_cc.shape[1] / 2)"
   ]
  },
  {
   "cell_type": "markdown",
   "id": "2dff9d6f",
   "metadata": {},
   "source": [
    "## Define AudeyART (FuzzyART) Module\n",
    "\n",
    "We will implement the FuzzyART module as a Python class containing all of the weights, hyperparamenters, and methods bundled together.\n",
    "The main interface that we want to the rest of the program is:\n",
    "\n",
    "1. `AudeyART(...)`: an intialization function where we pass whatever hyperparameters it will need.\n",
    "These hyperparameters will include what it needs to correctly setup the module structure, and it will also include the running variables such as learning rate, vigilance parameter, etc.\n",
    "2. `AudeyART.train(x: Tensor)`: to cluster the data, we will take in one sample at a time and train the model incrementally.\n",
    "Future work will take in an `x` and `y` in the supervised case.\n",
    "3. `AudeyART.classify(x: Tensor)`: once the model is trained, we need a function that gives predictions of what internal category the provided sample `x` belongs to.\n",
    "This will mainly be used to visualize the clustering results on the test split.\n",
    "\n",
    "<div class=\"alert alert-block alert-info\">\n",
    "<b>Note:</b>\n",
    "Normally, proper docstrings would be used to document Python class functionality, but I am using inline comments to explain each line step-by-step instead.\n",
    "</div>"
   ]
  },
  {
   "cell_type": "code",
   "execution_count": 5,
   "id": "a41d87e8",
   "metadata": {},
   "outputs": [],
   "source": [
    "# Define a class that contains everything we need\n",
    "class AudeyART():\n",
    "\n",
    "    # The constructor will be where we pass the hyperparameters necessary for the FuzzyART module to work.\n",
    "    def __init__(\n",
    "        self,\n",
    "        dim: int,           # The original dimension of the data\n",
    "        rho: float=0.6,     # The vigilance parameter in [0, 1]\n",
    "        beta: float=0.5,    # The learning rate in [0, 1]\n",
    "        alpha: float=0.001  # The choice parameter (close to zero)\n",
    "    ):\n",
    "        # The weights with be of shape [n_categories, 2 * n_dimensions] for complement coded samples\n",
    "        # NOTE: we start with weights of size [0, 8] with an uninitialized number of categories but known complement-coded dimension length\n",
    "        self.W = Tensor(size=[0, 2*dim])\n",
    "        # Keep track of the original dimension for later\n",
    "        self.dim = dim\n",
    "        # Save the rest of the operational hyperaparameters\n",
    "        self.alpha = alpha\n",
    "        self.beta = beta\n",
    "        self.rho = rho\n",
    "\n",
    "        return\n",
    "\n",
    "    # This function defines how we add a new category to the weight matrix\n",
    "    def grow(self, x: Tensor):\n",
    "        # This is a commented print statement for debugging the shapes of everything, kept here for reference\n",
    "        # print(self.W.shape, x.shape, x.reshape((1, self.dim*2)).shape)\n",
    "\n",
    "        # Growing the weight matrix ultimately means appending a new weight vector.\n",
    "        # This is slow how it is written because the memory is overwritten each time we add a new weight, but it works fine for small datasets.\n",
    "        self.W = torch.cat((self.W, x.reshape((1, self.dim*2))))\n",
    "\n",
    "        return\n",
    "\n",
    "    # This function defines what it means to initialize a new category and add it to the weight matrix\n",
    "    def init_cat(self, x:Tensor):\n",
    "        # First, we infer the existing number of categories\n",
    "        n_categories = self.W.shape[0]\n",
    "        # Next we initialize the \"uncommitted node\" with all ones\n",
    "        new_W = torch.ones(2*self.dim)\n",
    "        # We append the new node to the weights via our grow function\n",
    "        self.grow(new_W)\n",
    "        # Then we immediately update that category\n",
    "        # NOTE: Python is 0-indexed, so the n_categories we got before we appended a new one happens to be the correct index to update\n",
    "        self.learn(x, n_categories)\n",
    "\n",
    "        return\n",
    "\n",
    "    # This is the activation function to compute `T` given sample `x` and the weight at index `j`\n",
    "    def activation(self, x:Tensor, j:int):\n",
    "        # We will do this step-by-step to illustrate each computation.\n",
    "        # First, get the element-wise minimum (fuzzy intersection) of weight `j` and sample `x`.\n",
    "        xinw = torch.minimum(x, self.W[j, :])\n",
    "        # Taking the 1-norm is simply a sum\n",
    "        xinwnorm = torch.sum(xinw)\n",
    "        # We also need the 1-norm of the weight on its own\n",
    "        wnorm = torch.sum(self.W[j, :])\n",
    "        # We compute the activation as the norm of the fuzzy intersection over the weight norm plus the choice parameter (to not divide by zero).\n",
    "        Tj = xinwnorm / (self.alpha + wnorm)\n",
    "        # The output is then just this one activation `T` for weight `j`\n",
    "        return Tj\n",
    "\n",
    "    # This is the match function to compute `M` given sample `x` and the weight at index `j`\n",
    "    def match(self, x:Tensor, j:int):\n",
    "        # Again, the fuzzy intersection is just the elementwise-minimum between sample `x` and weight `j`\n",
    "        xinw = torch.minimum(x, self.W[j, :])\n",
    "        # The 1-norm is simply a sum of all elements\n",
    "        xinwnorm = torch.sum(xinw)\n",
    "        # The match is defined as fuzzy intersection over the 1-norm of the sample, but we know that the sample is normalized to [0, 1] and complement coded, so that term will always be equal to the original dimension number\n",
    "        Mj = xinwnorm / self.dim\n",
    "        # The output here is the match value for weight `j`\n",
    "        return Mj\n",
    "\n",
    "    # This function describes what it means to update a winning weight at index `j` with sample `x`\n",
    "    def learn(self, x:Tensor, j:int):\n",
    "        # We accidentally wrote the wrong learning function here first, so I am keeping it to show how the learning function (among others) can vary quite a bit between different ART modules\n",
    "        # self.W[j, :] = self.beta * x + (1-self.beta) * self.W[j, :]\n",
    "\n",
    "        # The FuzzyART weight update rule is a linear interpolation between the old weight and the fuzzy intersection, and how far along that interpolation we go is set by beta (between [0,1]).\n",
    "        self.W[j, :] = (1 - self.beta) * self.W[j, :] + self.beta * (torch.minimum(x, self.W[j, :]))\n",
    "\n",
    "        # Because we wrote this function to update the weight in place, we have an empty return\n",
    "        return\n",
    "\n",
    "    # This function is the main training interface, taking one sample at a time\n",
    "    def train(self, x:Tensor):\n",
    "        # First, we make sure that we have at least one category\n",
    "        n_categories = self.W.shape[0]\n",
    "        # If we don't have any categories, then immediately create one and update it\n",
    "        if n_categories == 0:\n",
    "            self.init_cat(x)\n",
    "            return\n",
    "\n",
    "        # Next, we compute the activations.\n",
    "        # NOTE: There are two ways to do this:\n",
    "        #   1. Preallocate a vector and iterate with a for loop\n",
    "        #   2. List comprehension, where this is done all at once\n",
    "        # List comprehension is sometimes slower for complicated low-level reasons, but it is a useful tool in lots of scenarios to make the syntax simpler.\n",
    "\n",
    "        # OPTION 1: For loop way (commented out for illustration purposes)\n",
    "        # T = torch.zeros(n_categories)\n",
    "        # for j in range(n_categories):\n",
    "        #     T[j] = self.activation(x, j)\n",
    "\n",
    "        # OPTION 2: List comprehension way\n",
    "        T = Tensor([self.activation(x, j) for j in range(n_categories)])\n",
    "\n",
    "        # Next, we do the vigilance check.\n",
    "        # This will involve going through the weights in order of highest activation and seeing if any of them pass the vigilance criterion.\n",
    "        # For FuzzyART, this simply means if `Mj > rho`, where `rho` is the vigilance parameter.\n",
    "        # The first one that passes this check wins and gets updated (hence winner-take-all).\n",
    "        # If none do, then a new category is created and updated (hence the neurogenesis).\n",
    "\n",
    "        # There are also two ways to handle the vigilance check programmatically:\n",
    "        #   1. Sort the activations then iterate\n",
    "        #   2. argmax the activations iteratively and zero them out if the don't pass.\n",
    "        # Both methods have pros and cons, but we will go with the sorting procedure since it is simpler (even though it is technically slower since the sort is O(n long(n)) )\n",
    "\n",
    "        # Sort the activations in order of highest activation first (in torch, this means descending order)\n",
    "        # NOTE: we want the resulting indices too because we care about the original weight index that was highest activated\n",
    "        T, inds = torch.sort(T, descending=True)\n",
    "\n",
    "        # Create a flag that acts as the signal if any weight won\n",
    "        did_match = False\n",
    "\n",
    "        # Iterate over the activations in order of highest first\n",
    "        for _, j in enumerate(T):\n",
    "            # Extract the index of the current node with a bunch of type casting (ints can be used to index in Python, but torch Tensors can't)\n",
    "            J = int(inds[int(j)])\n",
    "            # Compute the match value at that index\n",
    "            M = self.match(x, J)\n",
    "            # If the match value is greater than the vigilance parameter, update that weight and stop the search\n",
    "            if M > self.rho:\n",
    "                # Update the weight according to the FuzzyART learning rule\n",
    "                self.learn(x, J)\n",
    "                # Raise the flag to say that we did have a winner\n",
    "                did_match = True\n",
    "                # Stop iterating over the weights\n",
    "                break\n",
    "\n",
    "        # If we didnt' have a winner, then create a new weight entirely and immediately update it (similar to how we do if we create the first weight at the top)\n",
    "        if not did_match:\n",
    "            self.init_cat(x)\n",
    "\n",
    "        return\n",
    "\n",
    "    # This function will classify a provided sample and report the index of the internal category that it belongs to.\n",
    "    # NOTE: we also have a special option to get the \"best-matching-unit\" (bmu) in the case of complete mismatch (i.e., the sample was unrecognized), in which case we report the category that had the highest activation.\n",
    "    def classify(self, x:Tensor, get_bmu: bool = True):\n",
    "        # First, infer the number of categories that we currently have\n",
    "        n_categories = self.W.shape[0]\n",
    "\n",
    "        # Next compute the activations for each category using the list comprehension way\n",
    "        T = Tensor([self.activation(x, j) for j in range(n_categories)])\n",
    "\n",
    "        # Start out by saying that the reported value is mismatched, which we code with -1.\n",
    "        # This will be hopefully overwritten if we have a match\n",
    "        # NOTE: we initialize it out here because we want y_hat in this scope level so that it is correctly returned\n",
    "        y_hat = -1\n",
    "\n",
    "        # Sort the activations like before, keeping track of the corresponding indices\n",
    "        T, inds = torch.sort(T, descending=True)\n",
    "\n",
    "        # Have a match flag as before\n",
    "        did_match = False\n",
    "        # Iterate in order of highest activation\n",
    "        for _, j in enumerate(T):\n",
    "            # Extract the index of the corresponding weight\n",
    "            J = int(inds[int(j)])\n",
    "            # Compute the match function for the weight\n",
    "            M = self.match(x, J)\n",
    "            # If it satisfies the match criterion, report that category index as our winner\n",
    "            if M > self.rho:\n",
    "                # Set the output as that index and break out of the loop\n",
    "                y_hat = J\n",
    "                did_match = True\n",
    "                break\n",
    "\n",
    "        # If there was not a winner, we would should handle it appropriately\n",
    "        if not did_match:\n",
    "            # If we still want to report some actual value, return the highest activated category (which is first in the sorted list)\n",
    "            if get_bmu:\n",
    "                y_hat = int(inds[0])\n",
    "            # Otherwise, return a mismatch signal\n",
    "            else:\n",
    "                y_hat = -1\n",
    "\n",
    "        return y_hat\n"
   ]
  },
  {
   "cell_type": "markdown",
   "id": "1f5690f6",
   "metadata": {},
   "source": [
    "## Training\n",
    "\n",
    "We are now ready to train the model!\n",
    "\n",
    "In the unsupervised case, this means incrementally clustering the full dataset.\n",
    "For supervised learning scenarios, we would take a train/test split of the data to get an unbiased assessment of the testing accuracy, but in clustering we have no \"performance\" metric _per se_ (we just have the resulting partitioning).\n",
    "\n",
    "Therefore, we will first incrementally cluster (train) on the whole dataset, and then we will classify (do inference) on the whole dataset to see how the algorithm partitioned the data.\n",
    "\n",
    "Also, we will do this in one pass of the data (i.e., one epoch) to show how we can get a pretty good result even after seeing each piece of data only once."
   ]
  },
  {
   "cell_type": "code",
   "execution_count": 6,
   "id": "d2aaab99",
   "metadata": {},
   "outputs": [],
   "source": [
    "# First initialize the FuzzyART module with our selection of hyperparameters.\n",
    "# The dimension of the data is necessary, but the others are a matter of selection.\n",
    "# We will choose fast learning (beta=1.0) and a middle-of-the-road vigilance parameter (rho=0.6).\n",
    "aart = AudeyART(\n",
    "    dim,\n",
    "    rho=0.45,\n",
    "    beta=1.0,\n",
    ")\n",
    "\n",
    "# To train, we loop over every sample\n",
    "for ix in range(n_samples):\n",
    "    # Extract the sample as a vector at sample index `ix`\n",
    "    data_x = data_cc[ix, :]\n",
    "\n",
    "    # Train the model on the sample!\n",
    "    # Because this is unsupervised, we have no other information to give to the model besides the sample itself.\n",
    "    aart.train(data_x)"
   ]
  },
  {
   "cell_type": "markdown",
   "id": "446d15c3",
   "metadata": {},
   "source": [
    "## Classify\n",
    "\n",
    "Hooray!\n",
    "We made and trained a FuzzyART module on the Iris dataset.\n",
    "But how did it do?\n",
    "\n",
    "One way we can inspect what it learned is by seeing how many categories were generated during training."
   ]
  },
  {
   "cell_type": "code",
   "execution_count": 7,
   "id": "e0658587",
   "metadata": {},
   "outputs": [
    {
     "name": "stdout",
     "output_type": "stream",
     "text": [
      "Number of categories: 12\n",
      "Original number of samples: 150\n"
     ]
    }
   ],
   "source": [
    "# The lazy way is to just take the shape of the weight matrix and take the first dimension\n",
    "print(f\"Number of categories: {aart.W.shape[0]}\")\n",
    "print(f\"Original number of samples: {n_samples}\")"
   ]
  },
  {
   "cell_type": "markdown",
   "id": "0211dfe7",
   "metadata": {},
   "source": [
    "Wowza, it worked!\n",
    "It is validating that we had fewer categories than we had samples, meaning that the algorithm bucketed the samples together.\n",
    "Let's get the full list of category labels for each sample to see how it did so:"
   ]
  },
  {
   "cell_type": "code",
   "execution_count": 8,
   "id": "91585476",
   "metadata": {},
   "outputs": [],
   "source": [
    "# Initialize a simple Python vector for the label estimates (i.e., the category indices)\n",
    "y_hats = []\n",
    "# Iterate over all of the samples again\n",
    "for ix in range(n_samples):\n",
    "    # Extract the single sample as before\n",
    "    data_x = data_cc[ix, :]\n",
    "    # Classify the sample, this time getting the label that the FuzzyART algorithm prescribed to it\n",
    "    y_hat = aart.classify(data_x)\n",
    "    # Append to our list of labels\n",
    "    y_hats.append(y_hat)"
   ]
  },
  {
   "cell_type": "markdown",
   "id": "0a5de7a6",
   "metadata": {},
   "source": [
    "Now that we have the classifications, lets get an idea of the cluster sizes.\n",
    "One way to do that is to simply count the number of members in each cluster, which we can do by counting how many samples were assigned to each label:"
   ]
  },
  {
   "cell_type": "code",
   "execution_count": 9,
   "id": "d5ba49ea",
   "metadata": {},
   "outputs": [
    {
     "name": "stdout",
     "output_type": "stream",
     "text": [
      "Number of 0's: 51\n",
      "Number of 1's: 13\n",
      "Number of 2's: 70\n",
      "Number of 3's: 3\n",
      "Number of 4's: 1\n",
      "Number of 5's: 4\n",
      "Number of 6's: 1\n",
      "Number of 7's: 1\n",
      "Number of 8's: 1\n",
      "Number of 9's: 1\n",
      "Number of 10's: 3\n",
      "Number of 11's: 1\n"
     ]
    }
   ],
   "source": [
    "# The number of unique labels is the length of the list of labels.\n",
    "n_unique = len(set(y_hats))\n",
    "# Print the number of samples that got bucketed into that label\n",
    "for ix in range(n_unique):\n",
    "    print(f\"Number of {ix}'s: {y_hats.count(ix)}\")"
   ]
  },
  {
   "cell_type": "markdown",
   "id": "d2e95f8b",
   "metadata": {},
   "source": [
    "Interesting!\n",
    "This type of behavior is common in clustering algorithms.\n",
    "A small subset of clusters got a lot of samples, and we ended up with a list of singleton clusters (i.e., a cluster with only one or a few samples belonging to them)."
   ]
  },
  {
   "cell_type": "markdown",
   "id": "471e9b17",
   "metadata": {},
   "source": [
    "## Visualization\n",
    "\n",
    "We'd like to go one step further and actually see how the samples got clustered on a plot.\n",
    "Because the Iris dataset is 4-dimensional, we can't directly visualize the data on its own terms.\n",
    "We could take slices of the data where we look at two dimensions at a time, but that would generate a list of 4C2 (4 choose 2) = 6 plots, which is already a lot for a small set of features.\n",
    "Imagine if we were working with a dataset with way more features, like the number of pixels in an image!\n",
    "\n",
    "Instead, we will try to use a common technique called TSNE to project the data into two dimensions, trying to preserve the relative distances between points in the lower dimension as in the higher dimension.\n",
    "It's not perfect, but it gives us an idea of how the algorithm partitioned the data visually."
   ]
  },
  {
   "cell_type": "code",
   "execution_count": 11,
   "id": "12b21003",
   "metadata": {},
   "outputs": [],
   "source": [
    "# Here, we make a couple of helper functions to set up the plot\n",
    "\n",
    "# Scatters points TSNE points and colors according to label\n",
    "def add_2d_scatter(ax, points, colors, title=None):\n",
    "    x, y = points\n",
    "    ax.scatter(x, y, s=50, c=colors, alpha=0.8)\n",
    "    ax.set_title(title)\n",
    "    ax.xaxis.set_major_formatter(ticker.NullFormatter())\n",
    "    ax.yaxis.set_major_formatter(ticker.NullFormatter())\n",
    "\n",
    "# Generates the plot itself\n",
    "def plot_2d(points, y, title):\n",
    "    cmap = plt.get_cmap('tab10')\n",
    "    colors = [cmap(i) for i in y]\n",
    "    fig, ax = plt.subplots(figsize=(3, 3), facecolor=\"white\", constrained_layout=True)\n",
    "    fig.suptitle(title, size=16)\n",
    "    add_2d_scatter(ax, points, colors)\n",
    "    plt.show()\n",
    "\n",
    "# Now, we initialize a TSNE module with its own set of hyperparameters for how it will be \"trained\" to create a mapping between the 4d data and its 2d projection.\n",
    "t_sne = TSNE(\n",
    "    n_components=2,\n",
    "    perplexity=10,\n",
    "    init=\"random\",\n",
    "    max_iter=250,\n",
    "    random_state=0,\n",
    ")\n",
    "\n",
    "# The `x` points are the original columns, and the `y` points are FuzzyART's cluster labels of them\n",
    "x = data[[\"SL\", \"SW\", \"PL\", \"PW\"]].values\n",
    "y = y_hats\n",
    "\n",
    "# Fit the TSNE to the data, and return those transformed points\n",
    "S_t_sne = t_sne.fit_transform(x)"
   ]
  },
  {
   "cell_type": "markdown",
   "id": "c4097aee",
   "metadata": {},
   "source": [
    "After creating the projection, let's finally visualize the clustering results.\n",
    "To do that, we will have each scatter point be a different color belonging to the label index.\n",
    "The specific value (and subsequently color) each value takes is not as important as the fact that they are different, showing that the algorithm bucketed the samples into different clusters."
   ]
  },
  {
   "cell_type": "code",
   "execution_count": 12,
   "id": "fc1f8b57",
   "metadata": {},
   "outputs": [
    {
     "data": {
      "image/png": "[encoded data removed]",
      "text/html": [
       "<div style=\"vertical-align: middle;\"><strong>tab10</strong> </div><div class=\"cmap\"><img alt=\"tab10 colormap\" title=\"tab10\" style=\"border: 1px solid #555;\" src=\"data:image/png;base64,iVBORw0KGgoAAAANSUhEUgAAAgAAAABACAYAAABsv8+/AAAAFHRFWHRUaXRsZQB0YWIxMCBjb2xvcm1hcFeJcQsAAAAadEVYdERlc2NyaXB0aW9uAHRhYjEwIGNvbG9ybWFwqdbY7QAAADF0RVh0QXV0aG9yAE1hdHBsb3RsaWIgdjMuMTAuMywgaHR0cHM6Ly9tYXRwbG90bGliLm9yZ4Z6eFUAAAAzdEVYdFNvZnR3YXJlAE1hdHBsb3RsaWIgdjMuMTAuMywgaHR0cHM6Ly9tYXRwbG90bGliLm9yZyNea6EAAAFtSURBVHic7dahTQNgGADRv6hOAekAjNCGLUhgkI6Aw+HqcCR1WJiFDbAIEtgCku/em+Dkba6Orz9rkI/t3Zriene5pnh5+F5TvN88rSm+Ph/XFLe745ritH1bU+wPz2uK+815TXLx3wEAwN8zAAAQZAAAIMgAAECQAQCAIAMAAEEGAACCDAAABBkAAAgyAAAQZAAAIMgAAECQAQCAIAMAAEEGAACCDAAABBkAAAgyAAAQZAAAIMgAAECQAQCAIAMAAEEGAACCDAAABBkAAAgyAAAQZAAAIMgAAECQAQCAIAMAAEEGAACCDAAABBkAAAgyAAAQZAAAIMgAAECQAQCAIAMAAEEGAACCDAAABBkAAAgyAAAQZAAAIMgAAECQAQCAIAMAAEEGAACCDAAABBkAAAgyAAAQZAAAIMgAAECQAQCAIAMAAEEGAACCDAAABBkAAAgyAAAQZAAAIMgAAECQAQCAIAMAAEEGAACCfgHBIA8jiXEkTAAAAABJRU5ErkJggg==\"></div><div style=\"vertical-align: middle; max-width: 514px; display: flex; justify-content: space-between;\"><div style=\"float: left;\"><div title=\"#1f77b4ff\" style=\"display: inline-block; width: 1em; height: 1em; margin: 0; vertical-align: middle; border: 1px solid #555; background-color: #1f77b4ff;\"></div> under</div><div style=\"margin: 0 auto; display: inline-block;\">bad <div title=\"#00000000\" style=\"display: inline-block; width: 1em; height: 1em; margin: 0; vertical-align: middle; border: 1px solid #555; background-color: #00000000;\"></div></div><div style=\"float: right;\">over <div title=\"#17becfff\" style=\"display: inline-block; width: 1em; height: 1em; margin: 0; vertical-align: middle; border: 1px solid #555; background-color: #17becfff;\"></div></div></div>"
      ],
      "text/plain": [
       "<matplotlib.colors.ListedColormap at 0x105548380>"
      ]
     },
     "execution_count": 12,
     "metadata": {},
     "output_type": "execute_result"
    }
   ],
   "source": [
    "# Visualize the color map for the points\n",
    "plt.get_cmap('tab10')"
   ]
  },
  {
   "cell_type": "markdown",
   "id": "29a7c1ee",
   "metadata": {},
   "source": [
    "Now, lets see what the points look like to see if we successfully clustered anything!"
   ]
  },
  {
   "cell_type": "code",
   "execution_count": 13,
   "id": "561cd191",
   "metadata": {},
   "outputs": [
    {
     "data": {
      "image/png": "[encoded data removed]",
      "text/plain": [
       "<Figure size 300x300 with 1 Axes>"
      ]
     },
     "metadata": {},
     "output_type": "display_data"
    }
   ],
   "source": [
    "# Generate the plot\n",
    "plot_2d(S_t_sne.T, y, \"TSNE (FuzzyART Labels)\")"
   ]
  },
  {
   "cell_type": "markdown",
   "id": "a3d8a6bb",
   "metadata": {},
   "source": [
    "Neat!\n",
    "We see that there are some natural clusters in the data that we can visualize with TSNE, and we also see that some of those clusters are a bit entangled (i.e., overlapping in the projected feature space).\n",
    "For the most part, we got three big clusters with a bunch of outliers, which is largely what we expect from the original data.\n",
    "After all, we would expect three clusters since the original data had three supervised labels.\n",
    "How about we plot data with the true labels side-by-side with the clustered labels?"
   ]
  },
  {
   "cell_type": "code",
   "execution_count": 14,
   "id": "06754380",
   "metadata": {},
   "outputs": [
    {
     "data": {
      "image/png": "[encoded data removed]",
      "text/plain": [
       "<Figure size 600x300 with 2 Axes>"
      ]
     },
     "metadata": {},
     "output_type": "display_data"
    }
   ],
   "source": [
    "# Generate a side-by-side comparison plot\n",
    "def plot_side_by_side_2d(x, y1, y2, t1, t2, ttop):\n",
    "    cmap = plt.get_cmap('tab10')\n",
    "    fig, (ax1, ax2) = plt.subplots(1,2,figsize=(6, 3), facecolor=\"white\", constrained_layout=True)\n",
    "    fig.suptitle(ttop, size=16)\n",
    "    colors = [cmap(i) for i in y1]\n",
    "    add_2d_scatter(ax1, x, colors)\n",
    "    ax1.set_title(t1, size=16)\n",
    "\n",
    "    colors = [cmap(i) for i in y2]\n",
    "    add_2d_scatter(ax2, x, colors)\n",
    "    ax2.set_title(t2, size=16)\n",
    "    plt.show()\n",
    "\n",
    "plot_side_by_side_2d(S_t_sne.T, y_hats, data[\"Label\"], \"FuzzyART\", \"Truth\", \"TSNE\")"
   ]
  },
  {
   "cell_type": "markdown",
   "id": "2ea677e4",
   "metadata": {},
   "source": [
    "Interesting! We largely captured the original structure of the data, but the clustering results still do not exactly match the original labels (especially with some of the outliers).\n",
    "\n",
    "Next time, we will make a supervised version of the algorithm and see how it performs!"
   ]
  },
  {
   "cell_type": "markdown",
   "id": "64e7f628",
   "metadata": {},
   "source": [
    "## Scratch Workspace\n",
    "\n",
    "These cells just demonstrate some of the tinkering that we did to figure out how to do some crucial low-level stuff using Tensors.\n",
    "For example, we needed to find out how to append tensors along the right dimension, find the elementwise minimum between two Tensor vectors, and how to cast Tensor values between different types for correctly indexing into other arrays."
   ]
  },
  {
   "cell_type": "code",
   "execution_count": 15,
   "id": "465db1ac",
   "metadata": {},
   "outputs": [
    {
     "name": "stdout",
     "output_type": "stream",
     "text": [
      "torch.Size([0, 2]) torch.Size([1, 2])\n",
      "torch.Size([1, 2])\n"
     ]
    }
   ],
   "source": [
    "# Here, we want to see how to concatenate two Tensors along our desired dimension\n",
    "a = torch.Tensor(size=[0,2])\n",
    "b = torch.Tensor(np.array([[1, 1]]))\n",
    "print(a.shape, b.shape)\n",
    "c = torch.cat((a, b))\n",
    "print(c.shape)"
   ]
  },
  {
   "cell_type": "code",
   "execution_count": 16,
   "id": "666c8489",
   "metadata": {},
   "outputs": [
    {
     "name": "stdout",
     "output_type": "stream",
     "text": [
      "tensor([ 1.7174, -0.7904, -0.1811]) 0\n"
     ]
    }
   ],
   "source": [
    "# Here, we want to find how to get the index of the argmax of a Tensor (especially with correctly typecasting)\n",
    "a = torch.randn(3)\n",
    "b = torch.argmax(a)\n",
    "print(a, int(b.data))"
   ]
  },
  {
   "cell_type": "code",
   "execution_count": null,
   "id": "ce8796e4",
   "metadata": {},
   "outputs": [],
   "source": [
    "# Here, we were tinkering with how to shuffle tensors\n",
    "\n",
    "# # Get the number of rows\n",
    "# num_rows = data_cc.shape[0]\n",
    "\n",
    "# # Generate a random permutation of row indices\n",
    "# row_indices = torch.randperm(num_rows)\n",
    "\n",
    "# # Shuffle the rows using advanced indexing\n",
    "# shuffled_tensor = data_cc[row_indices]"
   ]
  }
 ],
 "metadata": {
  "kernelspec": {
   "display_name": "audeyart",
   "language": "python",
   "name": "python3"
  },
  "language_info": {
   "codemirror_mode": {
    "name": "ipython",
    "version": 3
   },
   "file_extension": ".py",
   "mimetype": "text/x-python",
   "name": "python",
   "nbconvert_exporter": "python",
   "pygments_lexer": "ipython3",
   "version": "3.12.11"
  }
 },
 "nbformat": 4,
 "nbformat_minor": 5
}
