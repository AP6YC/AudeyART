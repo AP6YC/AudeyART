{
 "cells": [
  {
   "cell_type": "markdown",
   "id": "b8b32343",
   "metadata": {},
   "source": [
    "# AudeyART"
   ]
  },
  {
   "cell_type": "code",
   "execution_count": 231,
   "id": "6a9e9699",
   "metadata": {},
   "outputs": [],
   "source": [
    "import torch\n",
    "import pandas as pd\n",
    "from pathlib import Path\n",
    "import numpy as np\n",
    "from sklearn.preprocessing import MinMaxScaler\n",
    "from torch import Tensor"
   ]
  },
  {
   "cell_type": "markdown",
   "id": "428a5a15",
   "metadata": {},
   "source": [
    "## Load Data"
   ]
  },
  {
   "cell_type": "code",
   "execution_count": 232,
   "id": "654d692a",
   "metadata": {},
   "outputs": [
    {
     "data": {
      "text/plain": [
       "tensor([[0.2222, 0.6250, 0.0678,  ..., 0.3750, 0.9322, 0.9583],\n",
       "        [0.1667, 0.4167, 0.0678,  ..., 0.5833, 0.9322, 0.9583],\n",
       "        [0.1111, 0.5000, 0.0508,  ..., 0.5000, 0.9492, 0.9583],\n",
       "        ...,\n",
       "        [0.6111, 0.4167, 0.7119,  ..., 0.5833, 0.2881, 0.2083],\n",
       "        [0.5278, 0.5833, 0.7458,  ..., 0.4167, 0.2542, 0.0833],\n",
       "        [0.4444, 0.4167, 0.6949,  ..., 0.5833, 0.3051, 0.2917]])"
      ]
     },
     "execution_count": 232,
     "metadata": {},
     "output_type": "execute_result"
    }
   ],
   "source": [
    "datafile = Path(\"iris\", \"iris.data\")\n",
    "data = pd.read_csv(datafile, names=[\"SL\", \"SW\", \"PL\", \"PW\", \"Label\"])\n",
    "\n",
    "scaler = MinMaxScaler()\n",
    "data[[\"SL\", \"SW\", \"PL\", \"PW\"]] = scaler.fit_transform(data[[\"SL\", \"SW\", \"PL\", \"PW\"]])\n",
    "# data\n",
    "\n",
    "data_cc = torch.Tensor(data[[\"SL\", \"SW\", \"PL\", \"PW\"]].values)\n",
    "data_cc = torch.cat((data_cc, 1 - data_cc), dim=1)\n",
    "data_cc"
   ]
  },
  {
   "cell_type": "markdown",
   "id": "2dff9d6f",
   "metadata": {},
   "source": [
    "## Define AudeyART (FuzzyART) Module"
   ]
  },
  {
   "cell_type": "code",
   "execution_count": 233,
   "id": "a41d87e8",
   "metadata": {},
   "outputs": [],
   "source": [
    "class AudeyART():\n",
    "\n",
    "    def __init__(self, dim:int, rho:float=0.6, beta:float=0.5):\n",
    "        self.W = Tensor(size=[0, 2*dim])\n",
    "        self.alpha = 0.001\n",
    "        self.dim = dim\n",
    "        self.beta = beta\n",
    "        self.rho = rho\n",
    "        return\n",
    "\n",
    "    def grow(self, x: Tensor):\n",
    "        # print(self.W.shape, x.shape, x.reshape((1, self.dim*2)).shape)\n",
    "\n",
    "        self.W = torch.cat((self.W, x.reshape((1, self.dim*2))))\n",
    "        # print(self.W.shape)\n",
    "\n",
    "    def init_cat(self, x:Tensor):\n",
    "        n_categories = self.W.shape[0]\n",
    "        new_W = torch.ones(2*self.dim)\n",
    "        self.grow(new_W)\n",
    "        self.learn(x, n_categories)\n",
    "        return\n",
    "\n",
    "    def train(self, x:Tensor):\n",
    "        n_categories = self.W.shape[0]\n",
    "        if n_categories == 0:\n",
    "            self.init_cat(x)\n",
    "            return\n",
    "\n",
    "        # For loop way\n",
    "        # T = torch.zeros(n_categories)\n",
    "        # for j in range(n_categories):\n",
    "        #     T[j] = self.activation(x, j)\n",
    "\n",
    "        # List comprehension way\n",
    "        T = Tensor([self.activation(x, j) for j in range(n_categories)])\n",
    "\n",
    "        T, inds = torch.sort(T, descending=True)\n",
    "        did_match = False\n",
    "        # while not did_match:\n",
    "        for _, j in enumerate(T):\n",
    "            # J = int(torch.argmax(T).data)\n",
    "            J = int(inds[int(j)])\n",
    "            M = self.match(x, J)\n",
    "            if M > self.rho:\n",
    "                self.learn(x, J)\n",
    "                did_match = True\n",
    "                break\n",
    "\n",
    "        if not did_match:\n",
    "            self.init_cat(x)\n",
    "\n",
    "        return\n",
    "\n",
    "    def classify(self, x:Tensor, get_bmu = True):\n",
    "        n_categories = self.W.shape[0]\n",
    "\n",
    "        # List comprehension way\n",
    "        T = Tensor([self.activation(x, j) for j in range(n_categories)])\n",
    "\n",
    "        y_hat = -1\n",
    "\n",
    "        T, inds = torch.sort(T, descending=True)\n",
    "        did_match = False\n",
    "        # while not did_match:\n",
    "        for _, j in enumerate(T):\n",
    "            # J = int(torch.argmax(T).data)\n",
    "            J = int(inds[int(j)])\n",
    "            M = self.match(x, J)\n",
    "            if M > self.rho:\n",
    "                y_hat = J\n",
    "                did_match = True\n",
    "                break\n",
    "\n",
    "        if not did_match:\n",
    "            if not get_bmu:\n",
    "                y_hat = -1\n",
    "            else:\n",
    "                y_hat = int(inds[0])\n",
    "\n",
    "        return y_hat\n",
    "\n",
    "\n",
    "    def activation(self, x:Tensor, j:int):\n",
    "        # return torch.sum()\n",
    "        xinw = torch.minimum(x, self.W[j, :])\n",
    "        xinwnorm = torch.sum(xinw)\n",
    "        wnorm = torch.sum(self.W[j, :])\n",
    "        Tj = xinwnorm / (self.alpha + wnorm)\n",
    "        return Tj\n",
    "\n",
    "    def match(self, x:Tensor, j:int):\n",
    "        xinw = torch.minimum(x, self.W[j, :])\n",
    "        xinwnorm = torch.sum(xinw)\n",
    "        Mj = xinwnorm / self.dim\n",
    "        return Mj\n",
    "\n",
    "    def learn(self, x:Tensor, j:int):\n",
    "        # self.W[j, :] = self.beta * x + (1-self.beta) * self.W[j, :]\n",
    "        self.W[j, :] = (1 - self.beta) * self.W[j, :] + self.beta * (torch.minimum(x, self.W[j, :]))\n",
    "        return"
   ]
  },
  {
   "cell_type": "code",
   "execution_count": 234,
   "id": "666c8489",
   "metadata": {},
   "outputs": [
    {
     "data": {
      "text/plain": [
       "0"
      ]
     },
     "execution_count": 234,
     "metadata": {},
     "output_type": "execute_result"
    }
   ],
   "source": [
    "a = torch.randn(3)\n",
    "b = torch.argmax(a)\n",
    "int(b.data)\n"
   ]
  },
  {
   "cell_type": "markdown",
   "id": "1f5690f6",
   "metadata": {},
   "source": [
    "## Init Everything"
   ]
  },
  {
   "cell_type": "code",
   "execution_count": 235,
   "id": "bad138e3",
   "metadata": {},
   "outputs": [],
   "source": [
    "# Infer data dimensions\n",
    "n_samples = data_cc.shape[0]\n",
    "dim = int(data_cc.shape[1] / 2)\n",
    "\n",
    "# Init FuzzyART module\n",
    "# aart = AudeyART(dim)"
   ]
  },
  {
   "cell_type": "markdown",
   "id": "0bfbc48d",
   "metadata": {},
   "source": [
    "## Train"
   ]
  },
  {
   "cell_type": "code",
   "execution_count": 236,
   "id": "d2aaab99",
   "metadata": {},
   "outputs": [],
   "source": [
    "# Loop over every sample\n",
    "aart = AudeyART(dim, rho=0.6, beta=1.0)\n",
    "for ix in range(n_samples):\n",
    "    data_x = data_cc[ix, :]\n",
    "    aart.train(data_x)\n",
    "    # print(data_x)\n",
    "\n",
    "y_hats = []\n",
    "for ix in range(n_samples):\n",
    "    data_x = data_cc[ix, :]\n",
    "    y_hat = aart.classify(data_x)\n",
    "    y_hats.append(y_hat)"
   ]
  },
  {
   "cell_type": "code",
   "execution_count": 237,
   "id": "12b21003",
   "metadata": {},
   "outputs": [],
   "source": [
    "\n",
    "from matplotlib import pyplot as plt\n",
    "from matplotlib import ticker\n",
    "\n",
    "from sklearn.manifold import TSNE\n",
    "# from sklearn.metrics import ConfusionMatrixDisplay\n",
    "%matplotlib inline\n",
    "\n",
    "\n",
    "def add_2d_scatter(ax, points, colors, title=None):\n",
    "    x, y = points.T\n",
    "    ax.scatter(x, y, s=50, c=colors, alpha=0.8)\n",
    "    ax.set_title(title)\n",
    "    ax.xaxis.set_major_formatter(ticker.NullFormatter())\n",
    "    ax.yaxis.set_major_formatter(ticker.NullFormatter())\n",
    "\n",
    "def plot_2d(points, colors, title):\n",
    "    fig, ax = plt.subplots(figsize=(3, 3), facecolor=\"white\", constrained_layout=True)\n",
    "    fig.suptitle(title, size=16)\n",
    "    add_2d_scatter(ax, points, colors)\n",
    "    plt.show()\n",
    "\n",
    "\n",
    "t_sne = TSNE(\n",
    "    n_components=2,\n",
    "    perplexity=30,\n",
    "    init=\"random\",\n",
    "    max_iter=250,\n",
    "    random_state=0,\n",
    ")\n",
    "\n",
    "# x, y = get_points(model, test_loader)\n",
    "\n",
    "x = data_cc.numpy()\n",
    "y = y_hats\n",
    "\n",
    "S_t_sne = t_sne.fit_transform(x)\n"
   ]
  },
  {
   "cell_type": "code",
   "execution_count": 238,
   "id": "561cd191",
   "metadata": {},
   "outputs": [
    {
     "data": {
      "image/png": "[encoded data removed]",
      "text/plain": [
       "<Figure size 300x300 with 1 Axes>"
      ]
     },
     "metadata": {},
     "output_type": "display_data"
    }
   ],
   "source": [
    "cmap = plt.get_cmap('tab10')\n",
    "colors = [cmap(i) for i in y]\n",
    "plot_2d(S_t_sne, colors, \"T-distributed Stochastic  \\n Neighbor Embedding\")"
   ]
  },
  {
   "cell_type": "code",
   "execution_count": 239,
   "id": "465db1ac",
   "metadata": {},
   "outputs": [
    {
     "name": "stdout",
     "output_type": "stream",
     "text": [
      "torch.Size([0, 2])\n",
      "torch.Size([1, 2])\n"
     ]
    },
    {
     "data": {
      "text/plain": [
       "torch.Size([1, 2])"
      ]
     },
     "execution_count": 239,
     "metadata": {},
     "output_type": "execute_result"
    }
   ],
   "source": [
    "a = torch.Tensor(size=[0,2])\n",
    "b = torch.Tensor(np.array([[1, 1]]))\n",
    "# a.expand( )\n",
    "print(a.shape)\n",
    "print(b.shape)\n",
    "c = torch.cat((a, b))\n",
    "c.shape"
   ]
  }
 ],
 "metadata": {
  "kernelspec": {
   "display_name": "audeyart",
   "language": "python",
   "name": "python3"
  },
  "language_info": {
   "codemirror_mode": {
    "name": "ipython",
    "version": 3
   },
   "file_extension": ".py",
   "mimetype": "text/x-python",
   "name": "python",
   "nbconvert_exporter": "python",
   "pygments_lexer": "ipython3",
   "version": "3.12.11"
  }
 },
 "nbformat": 4,
 "nbformat_minor": 5
}
